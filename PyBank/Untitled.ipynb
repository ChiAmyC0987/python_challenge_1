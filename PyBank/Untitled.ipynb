{
 "cells": [
  {
   "cell_type": "code",
   "execution_count": 14,
   "metadata": {},
   "outputs": [
    {
     "ename": "AttributeError",
     "evalue": "'str' object has no attribute 'append'",
     "output_type": "error",
     "traceback": [
      "\u001b[1;31m---------------------------------------------------------------------------\u001b[0m",
      "\u001b[1;31mAttributeError\u001b[0m                            Traceback (most recent call last)",
      "\u001b[1;32m<ipython-input-14-b795c36926f9>\u001b[0m in \u001b[0;36m<module>\u001b[1;34m\u001b[0m\n\u001b[0;32m     21\u001b[0m     \u001b[1;32mfor\u001b[0m \u001b[0mrow\u001b[0m \u001b[1;32min\u001b[0m \u001b[0mcsvreader\u001b[0m\u001b[1;33m:\u001b[0m\u001b[1;33m\u001b[0m\u001b[1;33m\u001b[0m\u001b[0m\n\u001b[0;32m     22\u001b[0m         \u001b[0mMonth_Count\u001b[0m \u001b[1;33m=\u001b[0m \u001b[0mrow\u001b[0m\u001b[1;33m[\u001b[0m\u001b[1;36m1\u001b[0m\u001b[1;33m]\u001b[0m\u001b[1;33m\u001b[0m\u001b[1;33m\u001b[0m\u001b[0m\n\u001b[1;32m---> 23\u001b[1;33m         \u001b[0mMonth_Count\u001b[0m\u001b[1;33m.\u001b[0m\u001b[0mappend\u001b[0m\u001b[1;33m(\u001b[0m\u001b[0mMonth_Count\u001b[0m\u001b[1;33m)\u001b[0m\u001b[1;33m\u001b[0m\u001b[1;33m\u001b[0m\u001b[0m\n\u001b[0m",
      "\u001b[1;31mAttributeError\u001b[0m: 'str' object has no attribute 'append'"
     ]
    }
   ],
   "source": [
    "# initialize variables to hold integer, strings, lists\n",
    "Tot_Month = 0\n",
    "Tot_Profit_Loss = 0\n",
    "Profit_Loss_Now = 0\n",
    "Profit_Loss_Past = 0\n",
    "Profit_Loss_Chg = 0\n",
    "Delta_Profit = [[]]\n",
    "Profit_Loss = [[]]\n",
    "Month_Count = 0\n",
    "ValueString = [[]]   # create empty string\n",
    "Dictionary = {'Profit_Loss_Now':[], 'Month_Count': 0, 'Delta_Profit': []}\n",
    "\n",
    "# Import csv file\n",
    "import csv\n",
    "file_name = \"Resources/budget_data.csv\"\n",
    "\n",
    "# Open the Budget_Data.csv\n",
    "with open(file_name, newline='') as csvfile:\n",
    "    csvreader = csv.reader(csvfile)    # Read each line of Data as row\n",
    "\n",
    "    for row in csvreader:\n",
    "        Month_Count = row[1]\n",
    "        Month_Count.append(Month_Count)\n"
   ]
  },
  {
   "cell_type": "code",
   "execution_count": null,
   "metadata": {},
   "outputs": [],
   "source": [
    "for row in csvreader:\n",
    "    Month_Count.append(Month_Count)\n",
    "    Delta_Profit.append(Delta_Profit)\n",
    "    Max_P = max(Delta_Profit)\n",
    "    Min_P = min(Delta_Profit)\n",
    "    Sum_P = sum (Delta_Profit)\n",
    "    Tot_Month = (Month_Count)\n",
    "print(Dictionary)"
   ]
  },
  {
   "cell_type": "code",
   "execution_count": null,
   "metadata": {},
   "outputs": [],
   "source": []
  }
 ],
 "metadata": {
  "kernelspec": {
   "display_name": "Python 3",
   "language": "python",
   "name": "python3"
  },
  "language_info": {
   "codemirror_mode": {
    "name": "ipython",
    "version": 3
   },
   "file_extension": ".py",
   "mimetype": "text/x-python",
   "name": "python",
   "nbconvert_exporter": "python",
   "pygments_lexer": "ipython3",
   "version": "3.7.3"
  }
 },
 "nbformat": 4,
 "nbformat_minor": 2
}
